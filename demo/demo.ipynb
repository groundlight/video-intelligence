{
 "cells": [
  {
   "cell_type": "code",
   "execution_count": null,
   "metadata": {},
   "outputs": [],
   "source": [
    "# make sure the framework is installed\n",
    "!cd .. && uv pip install -e .\n",
    "from tqdm.auto import tqdm\n",
    "from robot_frames import RobotFrame\n",
    "from robot_analysis_function import RobotUpsideDownAnalysis\n",
    "\n",
    "from framework.prefetcher import FramePrefetcher\n",
    "from framework.utils import (\n",
    "    get_first_frame_index,\n",
    "    get_last_frame_index,\n",
    "    proportion_with_answer,\n",
    "    warm_up_frame_class,\n",
    ")\n",
    "\n",
    "from framework.process_frames import process_frames"
   ]
  },
  {
   "cell_type": "code",
   "execution_count": null,
   "metadata": {},
   "outputs": [],
   "source": [
    "# initalize the groundlight client for the class\n",
    "RobotFrame.initialize_gl()\n",
    "\n",
    "# Warm up the robot detector - it will submit 10% of the frames to the robot detector to warm up the detector.\n",
    "# The frames are picked at random to get a representative sample of the entire video.\n",
    "# Then I'll go label these by hand with the assistance of the cloud labelers.\n",
    "# Alternatively, if you want clear designation between training and testing data, you can provide a list of frame indices to warm up on, e.g.\n",
    "# warm up on the first N minutes and test on the remaining M minutes.\n",
    "warm_up_frame_class(frame_class=RobotFrame, proportion=0.1)"
   ]
  },
  {
   "cell_type": "code",
   "execution_count": null,
   "metadata": {},
   "outputs": [],
   "source": [
    "# Once I'm happy with the detector, I'll run all of the frames through groundlight.\n",
    "start_index = get_first_frame_index()\n",
    "end_index = get_last_frame_index()\n",
    "indicies = list(range(start_index, end_index + 1))\n",
    "\n",
    "prefetcher = FramePrefetcher(\n",
    "    frame_class=RobotFrame,\n",
    "    indicies=indicies,\n",
    "    action=\"process\",\n",
    ")\n",
    "for index in tqdm(indicies, desc=\"Processing frames\"):\n",
    "    frame = prefetcher.get_frame(index)"
   ]
  },
  {
   "cell_type": "code",
   "execution_count": null,
   "metadata": {},
   "outputs": [],
   "source": [
    "# Now I wait a minute for the frames above to be processed (and inference timeouts to resolve).\n",
    "# Then I pull down updated inference results for frames where answers are available now but were not available before.\n",
    "prefetcher = FramePrefetcher(\n",
    "    frame_class=RobotFrame,\n",
    "    indicies=indicies,\n",
    "    action=\"update\",\n",
    ")\n",
    "for index in tqdm(indicies, desc=\"Updating frames\"):\n",
    "    frame = prefetcher.get_frame(index)\n",
    "\n",
    "# Check what proportion of frames have an answer.\n",
    "proportion = proportion_with_answer(\n",
    "    frame_class=RobotFrame,\n",
    "    indices=indicies,\n",
    "    has_answer_function=RobotFrame.has_answer,\n",
    ")\n",
    "print(f\"Proportion of frames with an answer: {proportion}\")\n"
   ]
  },
  {
   "cell_type": "code",
   "execution_count": null,
   "metadata": {},
   "outputs": [],
   "source": [
    "# My analysis function is a class that counts the number of frames the robot is upside down and stores that to state.\n",
    "# it then draws the state on the frame and returns the frame.\n",
    "analysis_class = RobotUpsideDownAnalysis()\n",
    "\n",
    "\n",
    "process_frames(\n",
    "    run_name=\"robot_upside_down_detection\",\n",
    "    indices=indicies,\n",
    "    output_path=\"output.mp4\",\n",
    "    analysis_function=analysis_class.analyze_frame,\n",
    "    frame_class=RobotFrame,\n",
    "    input_video_path=\"../data/boston_dynamics.mp4\",\n",
    ")"
   ]
  }
 ],
 "metadata": {
  "kernelspec": {
   "display_name": ".venv",
   "language": "python",
   "name": "python3"
  },
  "language_info": {
   "codemirror_mode": {
    "name": "ipython",
    "version": 3
   },
   "file_extension": ".py",
   "mimetype": "text/x-python",
   "name": "python",
   "nbconvert_exporter": "python",
   "pygments_lexer": "ipython3",
   "version": "3.13.1"
  }
 },
 "nbformat": 4,
 "nbformat_minor": 2
}
